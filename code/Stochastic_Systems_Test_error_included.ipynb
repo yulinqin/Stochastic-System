{
 "cells": [
  {
   "cell_type": "code",
   "execution_count": 1,
   "metadata": {},
   "outputs": [
    {
     "name": "stderr",
     "output_type": "stream",
     "text": [
      "D:\\Anaconda3\\Anaconda3_Python6\\lib\\site-packages\\h5py\\__init__.py:36: FutureWarning: Conversion of the second argument of issubdtype from `float` to `np.floating` is deprecated. In future, it will be treated as `np.float64 == np.dtype(float).type`.\n",
      "  from ._conv import register_converters as _register_converters\n",
      "Using TensorFlow backend.\n"
     ]
    }
   ],
   "source": [
    "import tensorflow as tf\n",
    "import numpy as np\n",
    "import sys\n",
    "\n",
    "from sklearn.metrics import mean_squared_error\n",
    "from keras.callbacks import LearningRateScheduler\n",
    "#from sklearn.preprocessing import MinMaxScaler ##########\n",
    "\n",
    "#sys.path.append('/Users/davidlaredorazo/Documents/University_of_California/Research/Projects')\n",
    "sys.path.append('/Users/Think/Desktop/project')\n",
    "\n",
    "#Tunable model\n",
    "from ann_framework.tunable_model.tunable_model import SequenceTunableModelRegression\n",
    "\n",
    "#Data handlers\n",
    "from ann_framework.data_handlers.data_handler_Oscillator import OscillatorDataHandler\n",
    "\n",
    "#Custom modules\n",
    "from ann_framework import aux_functions\n",
    "\n",
    "import aux_functions_stochastic\n",
    "import analytic_functions\n",
    "import loss_functions\n"
   ]
  },
  {
   "cell_type": "code",
   "execution_count": 2,
   "metadata": {},
   "outputs": [],
   "source": [
    "#global variables\n",
    "\n",
    "deltas = [0.1, 0.1]\n",
    "\n",
    "k = 1\n",
    "c = 0.1\n",
    "D = 1\n",
    "num_fevals = 5\n",
    "\n",
    "sigma_x = np.sqrt(D / (k * c))\n",
    "sigma_y = np.sqrt(D / c)"
   ]
  },
  {
   "cell_type": "markdown",
   "metadata": {},
   "source": [
    "### Define tensorflow model"
   ]
  },
  {
   "cell_type": "code",
   "execution_count": 14,
   "metadata": {},
   "outputs": [],
   "source": [
    "def create_placeholders(input_shape, output_shape):\n",
    "    \n",
    "    X = tf.placeholder(tf.float32, shape=(None,input_shape), name=\"X\")\n",
    "    y = tf.placeholder(tf.float32, shape=None, name=\"y\")\n",
    "    \n",
    "    return X, y\n",
    "\n",
    "\"\"\"\n",
    "def tf_model(X):\n",
    "    \n",
    "    l2_lambda_regularization = 0.20\n",
    "    l1_lambda_regularization = 0.10\n",
    "    \n",
    "    A1 = tf.layers.dense(X, 20, activation=tf.nn.relu, \n",
    "                         kernel_initializer=tf.contrib.layers.xavier_initializer(uniform=False), \n",
    "                         kernel_regularizer=tf.contrib.layers.l1_l2_regularizer(l1_lambda_regularization,l2_lambda_regularization), \n",
    "                         name=\"fc1\")\n",
    "    A2 = tf.layers.dense(A1, 20, activation=tf.nn.relu, \n",
    "                         kernel_initializer=tf.contrib.layers.xavier_initializer(uniform=False),\n",
    "                         kernel_regularizer=tf.contrib.layers.l1_l2_regularizer(l1_lambda_regularization,l2_lambda_regularization), name=\"fc2\")\n",
    "    y = tf.layers.dense(A2, 1, activation=None, kernel_initializer=tf.contrib.layers.xavier_initializer(uniform=False),\n",
    "                        kernel_regularizer=tf.contrib.layers.l1_l2_regularizer(l1_lambda_regularization,l2_lambda_regularization), name=\"out\")\n",
    "    \n",
    "    return y\n",
    "\"\"\"\n",
    "\n",
    "def tf_model_yulin(X):\n",
    "    \n",
    "    A1 = tf.layers.dense(X, 3000, activation=tf.nn.tanh, \n",
    "                         kernel_initializer=tf.contrib.layers.xavier_initializer(uniform=False),name=\"fc1\")\n",
    "    A2 = tf.layers.dense(A1, 3000, activation=tf.nn.relu, \n",
    "                         kernel_initializer=tf.contrib.layers.xavier_initializer(uniform=False),name=\"fc2\")\n",
    "    \"\"\"\n",
    "    A3 = tf.layers.dense(A2, 20, activation=tf.nn.elu, \n",
    "                         kernel_initializer=tf.contrib.layers.xavier_initializer(uniform=False),\n",
    "                         kernel_regularizer=tf.contrib.layers.l1_l2_regularizer(l1_lambda_regularization,l2_lambda_regularization), name=\"fc3\")\n",
    "    dropout3 = tf.layers.dropout(inputs = A3, rate = 0.2)\n",
    "    A4 = tf.layers.dense(dropout3, 20, activation=tf.nn.elu, \n",
    "                         kernel_initializer=tf.contrib.layers.xavier_initializer(uniform=False),\n",
    "                         kernel_regularizer=tf.contrib.layers.l1_l2_regularizer(l1_lambda_regularization,l2_lambda_regularization), name=\"fc4\")\n",
    "    dropout4 = tf.layers.dropout(inputs = A4, rate = 0.2)\n",
    "    \"\"\"\n",
    "    y = tf.layers.dense(A2, 1, activation=None, kernel_initializer=tf.contrib.layers.xavier_initializer(uniform=False),\n",
    "                        name=\"out\")\n",
    "    #activation funcs\n",
    "    \n",
    "    return y\n"
   ]
  },
  {
   "cell_type": "markdown",
   "metadata": {},
   "source": [
    "### Create Model TF"
   ]
  },
  {
   "cell_type": "code",
   "execution_count": 15,
   "metadata": {},
   "outputs": [],
   "source": [
    "def tf_compiled_model(num_features, output_shape):\n",
    "    tf.reset_default_graph()\n",
    "\n",
    "    X, y = create_placeholders(num_features, output_shape)\n",
    "\n",
    "    #y_pred = tf_model(X)\n",
    "    y_pred = tf_model_yulin(X)\n",
    "    \n",
    "    loss_function = loss_functions.squared_residual_function_wrapper2(k, c, D, deltas, num_fevals, sigma_x, sigma_y)\n",
    "    cost, e = loss_function(X, y_pred, y)\n",
    "    #reg_cost = tf.losses.get_regularization_loss()\n",
    "    total_cost = e\n",
    "    R = cost / (deltas[0]*deltas[1])\n",
    "    \n",
    "    # total_cost: e\n",
    "    # cost: R\n",
    "    \n",
    "    optimizer = tf.train.AdamOptimizer(learning_rate=0.01, beta1=0.5).minimize(R)\n",
    "\n",
    "    return {'X_placeholder': X, 'y_placeholder': y, 'y_pred': y_pred, 'cost': R, 'total_cost': total_cost, 'optimizer': optimizer}"
   ]
  },
  {
   "cell_type": "markdown",
   "metadata": {},
   "source": [
    "### Create Tunable Model Tensorflow and assign data"
   ]
  },
  {
   "cell_type": "code",
   "execution_count": 16,
   "metadata": {},
   "outputs": [
    {
     "name": "stdout",
     "output_type": "stream",
     "text": [
      "Loading data. Cros-Validation ratio 0.2\n",
      "Printing shapes\n",
      "\n",
      "Training data (X, y)\n",
      "(7200, 2)\n",
      "(7200, 1)\n",
      "Cross-Validation data (X, y)\n",
      "(1800, 2)\n",
      "(1800, 1)\n",
      "Testing data (X, y)\n",
      "(1000, 2)\n",
      "(1000, 1)\n",
      "Printing first 5 elements\n",
      "\n",
      "Training data (X, y)\n",
      "[[-6.16161616 -9.7979798 ]\n",
      " [ 9.5959596   5.15151515]\n",
      " [ 6.56565657 -6.16161616]\n",
      " [ 1.71717172  3.33333333]\n",
      " [-0.3030303  -9.5959596 ]]\n",
      "[[6.69829609]\n",
      " [5.93102745]\n",
      " [4.05366799]\n",
      " [0.70298949]\n",
      " [4.6087134 ]]\n",
      "Cross-Validation data (X, y)\n",
      "[[-2.92929293 -9.7979798 ]\n",
      " [ 7.17171717  6.56565657]\n",
      " [-2.72727273 -5.95959596]\n",
      " [ 8.38383838 -9.7979798 ]\n",
      " [-5.35353535 -2.12121212]]\n",
      "[[5.22905826]\n",
      " [4.72706867]\n",
      " [2.14774003]\n",
      " [8.31445771]\n",
      " [1.65799408]]\n",
      "Testing data (X, y)\n",
      "[[-8.38383838  2.52525253]\n",
      " [ 1.11111111  4.34343434]\n",
      " [ 9.19191919 -7.37373737]\n",
      " [-1.91919192 -6.16161616]\n",
      " [-7.17171717  6.96969697]]\n",
      "[[3.83328232]\n",
      " [1.00499949]\n",
      " [6.94316906]\n",
      " [2.08244057]\n",
      " [5.00051015]]\n"
     ]
    },
    {
     "name": "stderr",
     "output_type": "stream",
     "text": [
      "D:\\Anaconda3\\Anaconda3_Python6\\lib\\site-packages\\sklearn\\model_selection\\_split.py:2026: FutureWarning: From version 0.21, test_size will always complement train_size unless both are specified.\n",
      "  FutureWarning)\n"
     ]
    }
   ],
   "source": [
    "#scaler = MinMaxScaler()\n",
    "\n",
    "dhandler_stochastic = OscillatorDataHandler()\n",
    "\n",
    "#(data_scaler = scaler)\n",
    "\n",
    "model = tf_compiled_model(2, 1)\n",
    "\n",
    "tModel = SequenceTunableModelRegression('ModelStochastic_SN_1', model, lib_type='tensorflow', \n",
    "                                        data_handler=dhandler_stochastic)\n",
    "\n",
    "tModel.load_data(verbose=1, cross_validation_ratio=0.2, x=[0, 0], boundaries=[10, 10], n=[50, 50])\n",
    "\n",
    "#Real phi function\n",
    "p_real_test, phi_real_test = analytic_functions.real_p(tModel.X_test[:,0], tModel.X_test[:,1], sigma_x, sigma_y)\n",
    "p_real_train, phi_real_train = analytic_functions.real_p(tModel.X_train[:,0], tModel.X_train[:,1], sigma_x, sigma_y)\n",
    "p_real_crossVal, phi_real_crossVal = analytic_functions.real_p(tModel.X_crossVal[:,0], tModel.X_crossVal[:,1], sigma_x, sigma_y)\n",
    "\n",
    "tModel.y_test = phi_real_test\n",
    "tModel.y_train = phi_real_train\n",
    "tModel.y_crossVal = phi_real_crossVal\n",
    "\n",
    "\n",
    "tModel.print_data()"
   ]
  },
  {
   "cell_type": "markdown",
   "metadata": {
    "collapsed": true
   },
   "source": [
    "### Train model Tensorflow"
   ]
  },
  {
   "cell_type": "code",
   "execution_count": null,
   "metadata": {},
   "outputs": [
    {
     "name": "stdout",
     "output_type": "stream",
     "text": [
      "Epoch: 0001 cost_reg= 208.646775850 cost= 150.295520318\n",
      "Epoch: 0002 cost_reg= 4.153647598 cost= 0.018471716\n",
      "Epoch: 0003 cost_reg= 3.993827804 cost= 0.007236687\n",
      "Epoch: 0004 cost_reg= 3.951905886 cost= 0.005198312\n",
      "Epoch: 0005 cost_reg= 3.933375502 cost= 0.004259488\n",
      "Epoch: 0006 cost_reg= 4.023547633 cost= 0.004464180\n",
      "Epoch: 0007 cost_reg= 4.019555902 cost= 0.004816544\n",
      "Epoch: 0008 cost_reg= 4.122024409 cost= 0.012224358\n",
      "Epoch: 0009 cost_reg= 4.557755534 cost= 0.063423628\n",
      "Epoch: 0010 cost_reg= 5.325601101 cost= 0.100315926\n",
      "Epoch: 0011 cost_reg= 5.687167152 cost= 0.032884387\n",
      "Epoch: 0012 cost_reg= 5.674229558 cost= 0.007767939\n",
      "Epoch: 0013 cost_reg= 6.978184446 cost= 0.241748166\n",
      "Epoch: 0014 cost_reg= 9.034848785 cost= 0.347220451\n",
      "Epoch: 0015 cost_reg= 8.911173820 cost= 0.002598947\n",
      "Epoch: 0016 cost_reg= 8.966331673 cost= 0.001568223\n"
     ]
    }
   ],
   "source": [
    "tModel.epochs = 100\n",
    "#lrate = LearningRateScheduler(aux_functions.step_decay)\n",
    "minibatches_function_handle = aux_functions_stochastic.get_minibatches\n",
    "\n",
    "#tf.get_variable(\"deltas\", initializer=deltas)\n",
    "\n",
    "sess = tf.Session()\n",
    "\n",
    "#writer = tf.summary.FileWriter('./graphs', sess.graph)\n",
    "\n",
    "tModel.train_model(tf_session=sess, get_minibatches_function_handle=minibatches_function_handle, \n",
    "                   verbose=1, deltas=deltas)\n",
    "\n",
    "    # cost_reg: total_cost -> e\n",
    "    # cost: R"
   ]
  },
  {
   "cell_type": "code",
   "execution_count": null,
   "metadata": {
    "scrolled": true
   },
   "outputs": [],
   "source": [
    "display_points = 50\n",
    "\n",
    "\"\"\"\n",
    "#Evaluate real model\n",
    "X_test = tModel.X_crossVal\n",
    "\n",
    "#Real phi function\n",
    "sigma_x = np.sqrt(D / (k * c))\n",
    "sigma_y = np.sqrt(D / c)\n",
    "p_real, phi_real = analytic_functions.real_p(X_test[:,0], X_test[:,1], sigma_x, sigma_y)\n",
    "\n",
    "tModel.y_crossVal = phi_real\n",
    "\n",
    "#p_real = np.ravel(p_real)\n",
    "#phi_real = np.ravel(phi_real)\n",
    "\n",
    "tModel.evaluate_model(['mse', 'rmse'], cross_validation=True, tf_session=sess)\n",
    "#phi_pred = np.ravel(tModel.y_predicted)\n",
    "phi_pred = tModel.y_predicted\n",
    "\n",
    "d = 2 * np.pi * sigma_x * sigma_y\n",
    "c_not = 1/d\n",
    "p_pred = c_not * np.exp(-phi_pred)\n",
    "\"\"\"\n",
    "\n",
    "tModel.evaluate_model(['mse', 'rmse'], cross_validation=True, tf_session=sess)\n",
    "X_test = tModel.X_crossVal\n",
    "phi_pred = tModel.y_predicted\n",
    "phi_real = tModel.y_crossVal\n",
    "print(\"scores\")\n",
    "\n",
    "cScores = tModel.scores\n",
    "#rmse = math.sqrt(cScores['score_1'])\n",
    "rmse2 = cScores['rmse']\n",
    "mse = cScores['mse']\n",
    "time = tModel.train_time\n",
    "\n",
    "total_points = len(phi_pred)\n",
    "sample_array = list(range(total_points))\n",
    "\n",
    "sample_points = np.random.choice(sample_array, display_points)\n",
    "\n",
    "phi_real_sampled = phi_real[sample_points]\n",
    "phi_pred_sampled = phi_pred[sample_points]\n",
    "X_sampled = X_test[sample_points,:]\n",
    "\n",
    "i = range(len(phi_pred_sampled))\n",
    "\n",
    "\n",
    "for i, phi_real_display, phi_pred_display in zip(i, phi_real, phi_pred):\n",
    "    print('xy {}, Real Phi {}, Predicted Phi {}'.format(X_test[i], phi_real_display, phi_pred_display))\n",
    "\n",
    "#print(\"RMSE: {}\".format(rmse))\n",
    "print(\"RMSE2: {}\".format(rmse2))\n",
    "print(\"MSE: {}\".format(mse))\n",
    "print(\"Time : {} seconds\".format(time))"
   ]
  },
  {
   "cell_type": "code",
   "execution_count": null,
   "metadata": {},
   "outputs": [],
   "source": [
    "import matplotlib.pyplot as plt\n",
    "from mpl_toolkits.mplot3d import Axes3D\n",
    "\n",
    "fig1 = plt.figure(1)\n",
    "ax1 = Axes3D(fig1)\n",
    "pred_phi_plot = Axes3D.scatter(ax1, tModel.X_crossVal[:,0], tModel.X_crossVal[:,1], phi_pred)\n",
    "ax1.set_xlabel('x')\n",
    "ax1.set_ylabel('y')\n",
    "ax1.set_zlabel('phi(x, y)_pred')\n",
    "\n",
    "plt.show()"
   ]
  },
  {
   "cell_type": "code",
   "execution_count": null,
   "metadata": {},
   "outputs": [],
   "source": [
    "fig2 = plt.figure(2)\n",
    "ax2 = Axes3D(fig2)\n",
    "real_phi_plot = Axes3D.scatter(ax2, tModel.X_crossVal[:,0], tModel.X_crossVal[:,1], phi_real)\n",
    "ax2.set_xlabel('x')\n",
    "ax2.set_ylabel('y')\n",
    "ax2.set_zlabel('phi(x, y)_real')\n",
    "\n",
    "plt.show()"
   ]
  },
  {
   "cell_type": "code",
   "execution_count": null,
   "metadata": {},
   "outputs": [],
   "source": [
    "fig3 = plt.figure(3)\n",
    "ax3 = Axes3D(fig3)\n",
    "pred_p_plot = Axes3D.scatter(ax3, tModel.X_crossVal[:,0], tModel.X_crossVal[:,1], p_pred)\n",
    "ax3.set_xlabel('x')\n",
    "ax3.set_ylabel('y')\n",
    "ax3.set_zlabel('p(x, y)_pred')\n",
    "\n",
    "plt.show()"
   ]
  },
  {
   "cell_type": "code",
   "execution_count": null,
   "metadata": {},
   "outputs": [],
   "source": [
    "fig4 = plt.figure(4)\n",
    "ax4 = Axes3D(fig4)\n",
    "real_p_plot = Axes3D.scatter(ax4, tModel.X_crossVal[:,0], tModel.X_crossVal[:,1], p_real)\n",
    "ax4.set_xlabel('x')\n",
    "ax4.set_ylabel('y')\n",
    "ax4.set_zlabel('p(x, y)_real')\n",
    "\n",
    "plt.show()"
   ]
  },
  {
   "cell_type": "code",
   "execution_count": null,
   "metadata": {},
   "outputs": [],
   "source": [
    "def real_derivatives(X, sigma_x, sigma_y):\n",
    "    x1 = X[:, 0]\n",
    "    x2 = X[:, 1]\n",
    "    \n",
    "    first_order_dx = x1/(sigma_x**2)\n",
    "    first_order_dy = x2/(sigma_y**2)\n",
    "    second_order_dy = 1/(sigma_y**2)\n",
    "    \n",
    "    return first_order_dx, first_order_dy, second_order_dy\n",
    "\n",
    "dx, dy, ddy = real_derivatives(X_test, sigma_x, sigma_y)"
   ]
  },
  {
   "cell_type": "code",
   "execution_count": null,
   "metadata": {},
   "outputs": [],
   "source": [
    "dx, dy, ddy = analytic_functions.real_derivatives(tModel.X_crossVal, sigma_x, sigma_y)\n",
    "\n",
    "#for i in range(len(dx)):\n",
    " #   print('dx {}, dy {}, ddy {}'.format(dx[i], dy[i], ddy[i]))"
   ]
  },
  {
   "cell_type": "code",
   "execution_count": null,
   "metadata": {},
   "outputs": [],
   "source": []
  }
 ],
 "metadata": {
  "kernelspec": {
   "display_name": "Python 3",
   "language": "python",
   "name": "python3"
  },
  "language_info": {
   "codemirror_mode": {
    "name": "ipython",
    "version": 3
   },
   "file_extension": ".py",
   "mimetype": "text/x-python",
   "name": "python",
   "nbconvert_exporter": "python",
   "pygments_lexer": "ipython3",
   "version": "3.6.5"
  }
 },
 "nbformat": 4,
 "nbformat_minor": 2
}
